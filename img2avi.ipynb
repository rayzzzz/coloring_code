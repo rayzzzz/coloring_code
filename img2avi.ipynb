{
 "cells": [
  {
   "cell_type": "markdown",
   "metadata": {},
   "source": [
    "# 以下是第一種轉影片方法(順序亂掉的話是看看第二種)"
   ]
  },
  {
   "cell_type": "code",
   "execution_count": null,
   "metadata": {},
   "outputs": [],
   "source": [
    "import cv2\n",
    "import numpy as np\n",
    "import glob\n",
    "\n",
    "frameSize = (256, 256)\n",
    "\n",
    "out = cv2.VideoWriter('test1012/day_video.avi',cv2.VideoWriter_fourcc(*'DIVX'), 4, frameSize)\n",
    "\n",
    "for filename in glob.glob('test1012/contact/*.jpg'):\n",
    "    img = cv2.imread(filename)\n",
    "    out.write(img)\n",
    "\n",
    "out.release()"
   ]
  },
  {
   "cell_type": "markdown",
   "metadata": {},
   "source": [
    "# 以下是第二種轉影片方法"
   ]
  },
  {
   "cell_type": "code",
   "execution_count": 6,
   "metadata": {},
   "outputs": [],
   "source": [
    "import cv2\n",
    "import numpy as np\n",
    "import glob\n",
    "\n",
    "frameSize = (256, 256)\n",
    "\n",
    "out = cv2.VideoWriter('test1012/contrast_video.avi',cv2.VideoWriter_fourcc(*'DIVX'), 4, frameSize)\n",
    "\n",
    "img_count=147\n",
    "\n",
    "for i in range(img_count):\n",
    "    img_path = \"test1012/contact/\"+\"img_\"+str(i)+\".jpg\"\n",
    "    img = cv2.imread(img_path)\n",
    "    out.write(img)\n",
    "\n",
    "out.release()"
   ]
  },
  {
   "cell_type": "code",
   "execution_count": null,
   "metadata": {},
   "outputs": [],
   "source": []
  }
 ],
 "metadata": {
  "kernelspec": {
   "display_name": "Python 3",
   "language": "python",
   "name": "python3"
  },
  "language_info": {
   "codemirror_mode": {
    "name": "ipython",
    "version": 3
   },
   "file_extension": ".py",
   "mimetype": "text/x-python",
   "name": "python",
   "nbconvert_exporter": "python",
   "pygments_lexer": "ipython3",
   "version": "3.6.7"
  }
 },
 "nbformat": 4,
 "nbformat_minor": 4
}
